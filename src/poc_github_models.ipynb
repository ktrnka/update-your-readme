{
 "cells": [
  {
   "cell_type": "markdown",
   "metadata": {},
   "source": [
    "# Github Models\n",
    "\n",
    "This notebook is for testing the Github model APIs to get a sense of any limitations before redoing the implementation."
   ]
  },
  {
   "cell_type": "code",
   "execution_count": 1,
   "metadata": {},
   "outputs": [
    {
     "data": {
      "text/plain": [
       "(Repository(full_name=\"ktrnka/company-detective\"),\n",
       " PullRequest(title=\"Make sure Google Play scraping respects the num reviews param if poss…\", number=44))"
      ]
     },
     "execution_count": 1,
     "metadata": {},
     "output_type": "execute_result"
    }
   ],
   "source": [
    "import os\n",
    "from github import Github\n",
    "from main import parse_pr_link\n",
    "\n",
    "url = \"https://github.com/ktrnka/company-detective/pull/44\"\n",
    "\n",
    "g = Github(os.environ[\"GITHUB_TOKEN\"])\n",
    "\n",
    "repo, pr = parse_pr_link(g, url)\n",
    "repo, pr"
   ]
  },
  {
   "cell_type": "code",
   "execution_count": 3,
   "metadata": {},
   "outputs": [
    {
     "name": "stdout",
     "output_type": "stream",
     "text": [
      "\n"
     ]
    },
    {
     "data": {
      "text/plain": [
       "ReadmeRecommendation(should_update=True, reason='The pull request introduces a change to the Google Play scraping functionality, specifically regarding how the number of reviews is handled. This is a significant update that affects the usage of the application, and the README should reflect this change to ensure users have accurate information about the features and limitations of the project.', updated_readme=\"# Company Detective\\n\\nThis project summarizes publicly available information about a company. It leverages various APIs to gather and analyze data, providing a comprehensive overview of the target company.\\n\\nLive site: https://ktrnka.github.io/company-detective\\n\\n![System diagram](system_diagram.png)\\n\\n## Features\\n\\n- Multiple information sources including Crunchbase, news articles, and company websites\\n- Utilizes AI to analyze and summarize information\\n- Configured via Airtable\\n- Google Analytics integration for tracking user interactions and site performance.\\n\\n## Prerequisites\\n\\n- Python 3.11 or higher\\n- uv (Astral's Python package installer and resolver)\\n\\n## API Keys Required\\n\\nThis project requires API keys for the following services:\\n\\n- OpenAI\\n- Reddit\\n- Google Custom Search Engine\\n- Scrapfly\\n- AWS\\n- Langsmith (Optional)\\n- Crunchbase (via Scrapfly)\\n- Airtable\\n\\nEnsure you have obtained the necessary API keys before proceeding with the setup. The project is designed to handle missing API keys gracefully, but functionality may be limited without them.\\n\\n## Installation\\n\\n1. Clone the repository:\\n   ```\\n   git clone https://github.com/ktrnka/company-detective.git\\n   cd company-detective\\n   ```\\n\\n2. Install uv (if not already installed):\\n   ```\\n   make install-uv\\n   ```\\n\\n3. Install dependencies using uv:\\n   ```\\n   make install\\n   ```\\n\\n4. Set up your API keys in a `.env` file in the project root directory.\\n\\n## Usage\\n\\nThe main commands for running the company analysis are:\\n\\n1. To refresh company data:\\n   ```\\n   make refresh-data\\n   ```\\n\\n2. To build the website with analyzed data:\\n   ```\\n   make build-website\\n   ```\\n\\n3. To perform both operations sequentially:\\n   ```\\n   make build\\n   ```\\n\\nNote: The default goal for the Makefile is set to `build`, so running `make` without arguments will execute the full build process.\\n\\n## Data Sources\\n\\n- Crunchbase: Provides detailed company information, funding data, and recent news.\\n- News Articles: Gathers recent news about the company.\\n- Company Website: Extracts information directly from the company's official website.\\n- Reddit: Collects relevant discussions and mentions of the company.\\n- Glassdoor: Offers employee reviews and sentiment analysis (with improved handling for small companies).\\n- App Reviews: \\n  - Google Play Store: Scrapes up to the specified number of recent reviews, respecting the limit of 100 reviews.\\n  - Apple App Store: Scrapes reviews and downsamples to 100 if more are available, ensuring balanced representation with Google Play reviews.\\n\\n## Contributing\\n\\nContributions are welcome but first contact Keith for more information on how to contribute, as the repository isn't currently set up for open contributions.\\n\\n## Testing\\n\\nThe project includes automated tests. To run the tests, use:\\n```\\nmake test\\n```\\n\\nNote that some network-based tests may be skipped to avoid dependencies on external services during CI/CD processes.\\n\\n## Development\\n\\nTo check for dead code, you can use:\\n```\\nmake vulture\\n```\\n\\n## License\\n\\nTo be determined. Please contact the repository owner for licensing information.\\n\\n## Note\\n\\nThis project is under active development. Some features or data sources may change or be refactored. Please check for updates regularly.\")"
      ]
     },
     "execution_count": 3,
     "metadata": {},
     "output_type": "execute_result"
    }
   ],
   "source": [
    "from main import get_client, review_pull_request\n",
    "\n",
    "\n",
    "# models_to_try = [\n",
    "#     \"Llama-3.3-70B-Instruct\",\n",
    "#     \"Meta-Llama-3.1-405B-Instruct\",\n",
    "#     \"gpt-4o\",\n",
    "#     \"gpt-4o-mini\",\n",
    "#     \"o1-mini\",\n",
    "#     \"Phi-3.5-MoE-instruct\"\n",
    "# ]\n",
    "\n",
    "\n",
    "client = get_client()\n",
    "recommendation = review_pull_request(\n",
    "    client,\n",
    "    \"gpt-4o-mini\",\n",
    "    repo,\n",
    "    pr)\n",
    "\n",
    "recommendation"
   ]
  },
  {
   "cell_type": "code",
   "execution_count": null,
   "metadata": {},
   "outputs": [],
   "source": []
  }
 ],
 "metadata": {
  "kernelspec": {
   "display_name": ".venv",
   "language": "python",
   "name": "python3"
  },
  "language_info": {
   "codemirror_mode": {
    "name": "ipython",
    "version": 3
   },
   "file_extension": ".py",
   "mimetype": "text/x-python",
   "name": "python",
   "nbconvert_exporter": "python",
   "pygments_lexer": "ipython3",
   "version": "3.11.10"
  }
 },
 "nbformat": 4,
 "nbformat_minor": 2
}
