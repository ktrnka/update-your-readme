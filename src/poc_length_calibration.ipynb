{
 "cells": [
  {
   "cell_type": "markdown",
   "metadata": {},
   "source": [
    "# POC: Length calibration\n",
    "\n",
    "Context: The system has a tendency to increase README length. When I measured, I found that when updates were suggested, 100% of the time it suggested an overall increase in lines. Most PRs should result in fairly minimal README changes depending on the scope of the PR.\n",
    "\n",
    "The idea is to detect how extensive the code changes are to set expectations about how extensive the README should be updated. For example:\n",
    "PR edited 10% of the files of the repo and increased the overall repo size by 5%\n",
    "Expected README change: Adjust by +/- 10% length"
   ]
  },
  {
   "cell_type": "code",
   "execution_count": 2,
   "metadata": {},
   "outputs": [
    {
     "name": "stdout",
     "output_type": "stream",
     "text": [
      "Total files in base branch: 346\n",
      "Files changed in PR: 1\n",
      "Percentage of files changed: 0.3%\n"
     ]
    }
   ],
   "source": [
    "from main import github_client\n",
    "\n",
    "REPO_NAME, PR_NUMBER = ('locustio/locust', 2856)\n",
    "\n",
    "# Get the repository\n",
    "repo = github_client.get_repo(REPO_NAME)\n",
    "\n",
    "# Get the pull request\n",
    "pull_request = repo.get_pull(PR_NUMBER)\n",
    "\n",
    "# Get the base commit from the base branch\n",
    "base_branch = pull_request.base.ref\n",
    "base_commit = repo.get_branch(base_branch).commit\n",
    "\n",
    "# Get the tree for the base commit to count total files in the repository\n",
    "base_tree = base_commit.commit.tree\n",
    "\n",
    "def count_files_in_tree(tree):\n",
    "    # TODO: Review this code\n",
    "    file_count = 0\n",
    "    for item in tree.tree:\n",
    "        if item.type == 'blob':  # It's a file\n",
    "            file_count += 1\n",
    "        elif item.type == 'tree':  # It's a folder, we need to go deeper\n",
    "            subtree = repo.get_git_tree(item.sha, recursive=True)\n",
    "            file_count += len([i for i in subtree.tree if i.type == 'blob'])\n",
    "    return file_count\n",
    "\n",
    "total_files_in_base = count_files_in_tree(base_tree)\n",
    "\n",
    "# Get the number of files changed in the pull request\n",
    "changed_files_in_pr = pull_request.changed_files\n",
    "\n",
    "# Calculate the percentage of files changed\n",
    "percentage_files_changed = (changed_files_in_pr / total_files_in_base)\n",
    "\n",
    "print(f\"Total files in base branch: {total_files_in_base}\")\n",
    "print(f\"Files changed in PR: {changed_files_in_pr}\")\n",
    "print(f\"Percentage of files changed: {percentage_files_changed:.1%}\")\n",
    "\n",
    "# Note: This takes 5 sec to run"
   ]
  },
  {
   "cell_type": "code",
   "execution_count": 3,
   "metadata": {},
   "outputs": [
    {
     "data": {
      "text/plain": [
       "(36, 47)"
      ]
     },
     "execution_count": 3,
     "metadata": {},
     "output_type": "execute_result"
    }
   ],
   "source": [
    "def count_pr_diff(pull_request):\n",
    "    # Get the diff\n",
    "    diff = pull_request.get_files()\n",
    "    # Count the number of lines added and removed\n",
    "    lines_added = 0\n",
    "    lines_removed = 0\n",
    "    for file in diff:\n",
    "        lines_added += file.additions\n",
    "        lines_removed += file.deletions\n",
    "    return lines_added, lines_removed\n",
    "\n",
    "count_pr_diff(pull_request)"
   ]
  },
  {
   "cell_type": "code",
   "execution_count": 4,
   "metadata": {},
   "outputs": [
    {
     "data": {
      "text/plain": [
       "{'Python': 1027990,\n",
       " 'TypeScript': 214667,\n",
       " 'HTML': 3201,\n",
       " 'Dockerfile': 1642,\n",
       " 'Makefile': 1458}"
      ]
     },
     "execution_count": 4,
     "metadata": {},
     "output_type": "execute_result"
    }
   ],
   "source": [
    "# get_languages is fast to run but it returns the bytes by language\n",
    "# In theory we could compute this whole thing differently:\n",
    "# 1. Compute the ideal README length based on the get_languages() values\n",
    "# 2. Compute the actual README length\n",
    "# 3. Let the LLM know about the constraints (e.g. the README is a bit too short overall, and it can add up to 10% more)\n",
    "\n",
    "repo.get_languages()"
   ]
  },
  {
   "cell_type": "code",
   "execution_count": null,
   "metadata": {},
   "outputs": [],
   "source": []
  }
 ],
 "metadata": {
  "kernelspec": {
   "display_name": "update-your-readme-tOcPalp-",
   "language": "python",
   "name": "python3"
  },
  "language_info": {
   "codemirror_mode": {
    "name": "ipython",
    "version": 3
   },
   "file_extension": ".py",
   "mimetype": "text/x-python",
   "name": "python",
   "nbconvert_exporter": "python",
   "pygments_lexer": "ipython3",
   "version": "3.11.10"
  }
 },
 "nbformat": 4,
 "nbformat_minor": 2
}
