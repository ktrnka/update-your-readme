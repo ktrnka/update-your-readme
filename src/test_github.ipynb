{
 "cells": [
  {
   "cell_type": "code",
   "execution_count": 4,
   "metadata": {},
   "outputs": [
    {
     "name": "stdout",
     "output_type": "stream",
     "text": [
      "should_update=False reason=\"The current README is comprehensive and up-to-date. The pull request changes are primarily focused on internal code modifications and don't introduce any new features or significant changes that would require updates to the README. The existing README already covers the project's purpose, features, prerequisites, installation instructions, and usage information adequately.\" updated_readme=None\n"
     ]
    }
   ],
   "source": [
    "from main import *\n",
    "from pydantic import ValidationError\n",
    "from pprint import pprint\n",
    "repo = github_client.get_repo(\"ktrnka/company-detective\")\n",
    "\n",
    "try:\n",
    "    result = review_pull_request(repo, repo.get_pull(17), use_base_readme=True)\n",
    "    print(result)\n",
    "except ValidationError as e:\n",
    "    pprint(e.json)\n"
   ]
  },
  {
   "cell_type": "code",
   "execution_count": 5,
   "metadata": {},
   "outputs": [
    {
     "name": "stdout",
     "output_type": "stream",
     "text": [
      "\n",
      "Should update: False\n",
      "\n",
      "Reason:\n",
      "The current README is comprehensive and up-to-date. The pull request changes are primarily focused on internal code modifications and don't introduce any new features or significant changes that would require updates to the README. The existing README already covers the project's purpose, features, prerequisites, installation instructions, and usage information adequately.\n",
      "\n",
      "Updated README:\n",
      "None\n",
      "\n"
     ]
    }
   ],
   "source": [
    "print(f\"\"\"\n",
    "Should update: {result.should_update}\n",
    "\n",
    "Reason:\n",
    "{result.reason}\n",
    "\n",
    "Updated README:\n",
    "{result.updated_readme}\n",
    "\"\"\")"
   ]
  },
  {
   "cell_type": "code",
   "execution_count": 7,
   "metadata": {},
   "outputs": [],
   "source": [
    "# Show the readme diff\n",
    "import difflib\n",
    "\n",
    "if result.should_update:\n",
    "    diff = difflib.unified_diff(\n",
    "        repo.get_readme().decoded_content.decode(\"utf-8\").splitlines(),\n",
    "        result.updated_readme.splitlines(),\n",
    "    )\n",
    "    for line in diff:\n",
    "        print(line)\n"
   ]
  },
  {
   "cell_type": "code",
   "execution_count": null,
   "metadata": {},
   "outputs": [],
   "source": []
  }
 ],
 "metadata": {
  "kernelspec": {
   "display_name": "update-your-readme-tOcPalp-",
   "language": "python",
   "name": "python3"
  },
  "language_info": {
   "codemirror_mode": {
    "name": "ipython",
    "version": 3
   },
   "file_extension": ".py",
   "mimetype": "text/x-python",
   "name": "python",
   "nbconvert_exporter": "python",
   "pygments_lexer": "ipython3",
   "version": "3.11.10"
  }
 },
 "nbformat": 4,
 "nbformat_minor": 2
}
