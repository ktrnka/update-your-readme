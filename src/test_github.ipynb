{
 "cells": [
  {
   "cell_type": "code",
   "execution_count": 36,
   "metadata": {},
   "outputs": [
    {
     "data": {
      "text/plain": [
       "UpdateRecommendation(should_update=True, reason='The README file is currently empty, while the PR introduces new dependencies (langchain and langchain-anthropic) to the project. The README should be updated to include information about these new dependencies and provide a basic project description.', patch='```markdown\\n# Update Your README\\n\\nThis project automatically updates README files based on changes in pull requests.\\n\\n## Dependencies\\n\\nThis project uses the following dependencies:\\n\\n- PyGithub\\n- requests\\n- python-dotenv\\n- langchain\\n- langchain-anthropic\\n\\n## Usage\\n\\n[Add usage instructions here]\\n\\n## Contributing\\n\\n[Add contribution guidelines here]\\n\\n## License\\n\\n[Add license information here]\\n```')"
      ]
     },
     "execution_count": 36,
     "metadata": {},
     "output_type": "execute_result"
    }
   ],
   "source": [
    "from core import *\n",
    "\n",
    "repo = github_client.get_repo(\"ktrnka/update-your-readme\")\n",
    "\n",
    "result = review_pull_request(repo, 1)\n",
    "result"
   ]
  },
  {
   "cell_type": "code",
   "execution_count": 37,
   "metadata": {},
   "outputs": [
    {
     "name": "stdout",
     "output_type": "stream",
     "text": [
      "\n",
      "Should update: True\n",
      "\n",
      "Reason:\n",
      "The README file is currently empty, while the PR introduces new dependencies (langchain and langchain-anthropic) to the project. The README should be updated to include information about these new dependencies and provide a basic project description.\n",
      "\n",
      "Patch:\n",
      "```markdown\n",
      "# Update Your README\n",
      "\n",
      "This project automatically updates README files based on changes in pull requests.\n",
      "\n",
      "## Dependencies\n",
      "\n",
      "This project uses the following dependencies:\n",
      "\n",
      "- PyGithub\n",
      "- requests\n",
      "- python-dotenv\n",
      "- langchain\n",
      "- langchain-anthropic\n",
      "\n",
      "## Usage\n",
      "\n",
      "[Add usage instructions here]\n",
      "\n",
      "## Contributing\n",
      "\n",
      "[Add contribution guidelines here]\n",
      "\n",
      "## License\n",
      "\n",
      "[Add license information here]\n",
      "```\n",
      "\n"
     ]
    }
   ],
   "source": [
    "print(f\"\"\"\n",
    "Should update: {result.should_update}\n",
    "\n",
    "Reason:\n",
    "{result.reason}\n",
    "\n",
    "Patch:\n",
    "{result.patch}\n",
    "\"\"\")"
   ]
  },
  {
   "cell_type": "code",
   "execution_count": null,
   "metadata": {},
   "outputs": [],
   "source": []
  }
 ],
 "metadata": {
  "kernelspec": {
   "display_name": "update-your-readme-LRwUm5rQ",
   "language": "python",
   "name": "python3"
  },
  "language_info": {
   "codemirror_mode": {
    "name": "ipython",
    "version": 3
   },
   "file_extension": ".py",
   "mimetype": "text/x-python",
   "name": "python",
   "nbconvert_exporter": "python",
   "pygments_lexer": "ipython3",
   "version": "3.11.3"
  }
 },
 "nbformat": 4,
 "nbformat_minor": 2
}
