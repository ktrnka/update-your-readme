{
 "cells": [
  {
   "cell_type": "code",
   "execution_count": 1,
   "metadata": {},
   "outputs": [
    {
     "data": {
      "text/plain": [
       "UpdateRecommendation(should_update=True, reason='The current README is empty, while the pull request introduces significant changes to the project structure and dependencies. An updated README is necessary to provide essential information about the project, its purpose, and how to set it up.', updated_readme=\"# Update Your README\\n\\nThis project automatically updates README files based on changes in pull requests using GitHub API and language models.\\n\\n## Features\\n\\n- Analyzes pull requests for changes\\n- Suggests README updates based on new dependencies and project structure\\n- Uses LangChain and Anthropic's Claude model for intelligent suggestions\\n\\n## Dependencies\\n\\n- PyGithub\\n- requests\\n- python-dotenv\\n- langchain\\n- langchain-anthropic\\n- pydantic\\n\\n## Setup\\n\\n1. Clone the repository\\n2. Install dependencies: `pip install -r requirements.txt`\\n3. Set up environment variables:\\n   - Create a `.env` file in the project root\\n   - Add your GitHub token: `GITHUB_TOKEN=your_github_token_here`\\n   - Add your Anthropic API key: `ANTHROPIC_API_KEY=your_anthropic_api_key_here`\\n\\n## Usage\\n\\n[Add usage instructions here, such as how to run the main script or use the Jupyter notebook]\\n\\n## Contributing\\n\\nContributions are welcome! Please feel free to submit a Pull Request.\\n\\n## License\\n\\n[Add license information here]\")"
      ]
     },
     "execution_count": 1,
     "metadata": {},
     "output_type": "execute_result"
    }
   ],
   "source": [
    "from core import *\n",
    "\n",
    "repo = github_client.get_repo(\"ktrnka/update-your-readme\")\n",
    "\n",
    "result = review_pull_request(repo, 1)\n",
    "result"
   ]
  },
  {
   "cell_type": "code",
   "execution_count": 3,
   "metadata": {},
   "outputs": [
    {
     "name": "stdout",
     "output_type": "stream",
     "text": [
      "\n",
      "Should update: True\n",
      "\n",
      "Reason:\n",
      "The current README is empty, while the pull request introduces significant changes to the project structure and dependencies. An updated README is necessary to provide essential information about the project, its purpose, and how to set it up.\n",
      "\n",
      "Patch:\n",
      "# Update Your README\n",
      "\n",
      "This project automatically updates README files based on changes in pull requests using GitHub API and language models.\n",
      "\n",
      "## Features\n",
      "\n",
      "- Analyzes pull requests for changes\n",
      "- Suggests README updates based on new dependencies and project structure\n",
      "- Uses LangChain and Anthropic's Claude model for intelligent suggestions\n",
      "\n",
      "## Dependencies\n",
      "\n",
      "- PyGithub\n",
      "- requests\n",
      "- python-dotenv\n",
      "- langchain\n",
      "- langchain-anthropic\n",
      "- pydantic\n",
      "\n",
      "## Setup\n",
      "\n",
      "1. Clone the repository\n",
      "2. Install dependencies: `pip install -r requirements.txt`\n",
      "3. Set up environment variables:\n",
      "   - Create a `.env` file in the project root\n",
      "   - Add your GitHub token: `GITHUB_TOKEN=your_github_token_here`\n",
      "   - Add your Anthropic API key: `ANTHROPIC_API_KEY=your_anthropic_api_key_here`\n",
      "\n",
      "## Usage\n",
      "\n",
      "[Add usage instructions here, such as how to run the main script or use the Jupyter notebook]\n",
      "\n",
      "## Contributing\n",
      "\n",
      "Contributions are welcome! Please feel free to submit a Pull Request.\n",
      "\n",
      "## License\n",
      "\n",
      "[Add license information here]\n",
      "\n"
     ]
    }
   ],
   "source": [
    "print(f\"\"\"\n",
    "Should update: {result.should_update}\n",
    "\n",
    "Reason:\n",
    "{result.reason}\n",
    "\n",
    "Updated README:\n",
    "{result.updated_readme}\n",
    "\"\"\")"
   ]
  },
  {
   "cell_type": "code",
   "execution_count": null,
   "metadata": {},
   "outputs": [],
   "source": []
  }
 ],
 "metadata": {
  "kernelspec": {
   "display_name": "update-your-readme-LRwUm5rQ",
   "language": "python",
   "name": "python3"
  },
  "language_info": {
   "codemirror_mode": {
    "name": "ipython",
    "version": 3
   },
   "file_extension": ".py",
   "mimetype": "text/x-python",
   "name": "python",
   "nbconvert_exporter": "python",
   "pygments_lexer": "ipython3",
   "version": "3.11.3"
  }
 },
 "nbformat": 4,
 "nbformat_minor": 2
}
