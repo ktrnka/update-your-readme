{
 "cells": [
  {
   "cell_type": "code",
   "execution_count": 22,
   "metadata": {},
   "outputs": [
    {
     "name": "stdout",
     "output_type": "stream",
     "text": [
      ".gitignore\n",
      "Pipfile\n",
      "Pipfile.lock\n",
      "README.md\n",
      "\n"
     ]
    }
   ],
   "source": [
    "from github import Github\n",
    "from github import Auth\n",
    "import os\n",
    "from dotenv import load_dotenv\n",
    "\n",
    "load_dotenv()\n",
    "auth = Auth.Token(os.environ['GITHUB_TOKEN'])\n",
    "g = Github(auth=auth)\n",
    "\n",
    "repo = g.get_repo(\"ktrnka/update-your-readme\")\n",
    "\n",
    "def repo_contents_to_markdown(repo):\n",
    "    markdown = \"\"\n",
    "    for content in repo.get_contents(\"\"):\n",
    "        markdown += f\"{content.path}\\n\"\n",
    "    return markdown\n",
    "\n",
    "print(repo_contents_to_markdown(repo))"
   ]
  },
  {
   "cell_type": "code",
   "execution_count": 21,
   "metadata": {},
   "outputs": [
    {
     "name": "stdout",
     "output_type": "stream",
     "text": [
      "\n",
      "# [Test PR])https://github.com/ktrnka/update-your-readme/pull/1\n",
      "No description provided.\n",
      "\n",
      "## Pipfile\n",
      "@@ -7,6 +7,8 @@ name = \"pypi\"\n",
      " PyGithub = \"*\"\n",
      " requests = \"*\"\n",
      " python-dotenv = \"*\"\n",
      "+langchain = \"*\"\n",
      "+langchain-anthropic = \"*\"\n",
      " \n",
      " [dev-packages]\n",
      " pytest = \"*\"\n",
      "\n",
      "## src/test_github.ipynb\n",
      "Can't render patch.\n",
      "\n",
      "\n"
     ]
    }
   ],
   "source": [
    "\n",
    "def pull_request_to_markdown(pr):\n",
    "    text = f\"\"\"\n",
    "# [{pr.title}]){pr.html_url}\n",
    "{pr.body or 'No description provided.'}\n",
    "\n",
    "\"\"\"\n",
    "    for file in pr.get_files():\n",
    "        patch = file.patch or \"Can't render patch.\"\n",
    "        text += f\"\"\"## {file.filename}\\n{patch}\\n\\n\"\"\"\n",
    "\n",
    "    return text\n",
    "\n",
    "pulls = repo.get_pulls(state='open')\n",
    "for pr in pulls:\n",
    "    print(pull_request_to_markdown(pr))\n"
   ]
  },
  {
   "cell_type": "code",
   "execution_count": 15,
   "metadata": {},
   "outputs": [
    {
     "name": "stdout",
     "output_type": "stream",
     "text": [
      "\n"
     ]
    }
   ],
   "source": [
    "readme = repo.get_contents(\"README.md\")\n",
    "print(readme.decoded_content.decode())"
   ]
  },
  {
   "cell_type": "code",
   "execution_count": 25,
   "metadata": {},
   "outputs": [
    {
     "data": {
      "text/plain": [
       "UpdateRecommendation(should_update=True, reason=\"The pull request includes updates to the Pipfile to add new dependencies (langchain and langchain-anthropic) which are not currently reflected in the README file. It's a good practice to keep the README up-to-date with the project's dependencies and other relevant information.\", patch='```markdown\\n# Dependencies\\n\\nThis project uses the following dependencies:\\n\\n- PyGithub\\n- requests \\n- python-dotenv\\n- langchain\\n- langchain-anthropic\\n```')"
      ]
     },
     "execution_count": 25,
     "metadata": {},
     "output_type": "execute_result"
    }
   ],
   "source": [
    "from pydantic import BaseModel\n",
    "from typing import Optional\n",
    "from langchain_anthropic import ChatAnthropic\n",
    "from langchain_core.prompts import PromptTemplate\n",
    "\n",
    "\n",
    "model = ChatAnthropic(model='claude-3-5-sonnet-20240620')\n",
    "\n",
    "\n",
    "\n",
    "class UpdateRecommendation(BaseModel):\n",
    "    should_update: bool\n",
    "    reason: Optional[str]\n",
    "    patch: Optional[str]\n",
    "\n",
    "\n",
    "# Generate the LangChain Claude prompt\n",
    "prompt = PromptTemplate.from_template(\"\"\"\n",
    "# README Content\n",
    "{readme_content}\n",
    "\n",
    "# File Tree\n",
    "{file_tree}\n",
    "\n",
    "# PR Patch\n",
    "{pr_patch}\n",
    "\n",
    "# Task\n",
    "Based on the above information, please provide a structured output indicating:\n",
    "A) Should the README be updated?\n",
    "B) Why?\n",
    "C) A patch of the update to make.\n",
    "\"\"\")\n",
    "\n",
    "pipeline = prompt | model.with_structured_output(UpdateRecommendation)\n",
    "pr = repo.get_pull(1)\n",
    "result = pipeline.invoke({\n",
    "    \"readme_content\": repo.get_contents(\"README.md\").decoded_content.decode(),\n",
    "    \"file_tree\": repo_contents_to_markdown(repo),\n",
    "    \"pr_patch\": pull_request_to_markdown(pr)\n",
    "})\n",
    "result"
   ]
  },
  {
   "cell_type": "code",
   "execution_count": 26,
   "metadata": {},
   "outputs": [
    {
     "name": "stdout",
     "output_type": "stream",
     "text": [
      "\n",
      "Should update: True\n",
      "\n",
      "Reason:\n",
      "The pull request includes updates to the Pipfile to add new dependencies (langchain and langchain-anthropic) which are not currently reflected in the README file. It's a good practice to keep the README up-to-date with the project's dependencies and other relevant information.\n",
      "\n",
      "Patch:\n",
      "```markdown\n",
      "# Dependencies\n",
      "\n",
      "This project uses the following dependencies:\n",
      "\n",
      "- PyGithub\n",
      "- requests \n",
      "- python-dotenv\n",
      "- langchain\n",
      "- langchain-anthropic\n",
      "```\n",
      "\n"
     ]
    }
   ],
   "source": [
    "print(f\"\"\"\n",
    "Should update: {result.should_update}\n",
    "\n",
    "Reason:\n",
    "{result.reason}\n",
    "\n",
    "Patch:\n",
    "{result.patch}\n",
    "\"\"\")"
   ]
  },
  {
   "cell_type": "code",
   "execution_count": null,
   "metadata": {},
   "outputs": [],
   "source": []
  }
 ],
 "metadata": {
  "kernelspec": {
   "display_name": "update-your-readme-LRwUm5rQ",
   "language": "python",
   "name": "python3"
  },
  "language_info": {
   "codemirror_mode": {
    "name": "ipython",
    "version": 3
   },
   "file_extension": ".py",
   "mimetype": "text/x-python",
   "name": "python",
   "nbconvert_exporter": "python",
   "pygments_lexer": "ipython3",
   "version": "3.11.3"
  }
 },
 "nbformat": 4,
 "nbformat_minor": 2
}
